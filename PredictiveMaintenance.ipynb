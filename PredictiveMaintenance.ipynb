{
 "cells": [
  {
   "cell_type": "markdown",
   "metadata": {},
   "source": [
    "## Introduction du projet et objectif"
   ]
  },
  {
   "cell_type": "markdown",
   "metadata": {},
   "source": [
    "### Introduction du projet"
   ]
  },
  {
   "cell_type": "markdown",
   "metadata": {},
   "source": [
    "Nom du projet : Prédiction de pannes\n",
    "\n",
    "Projet réalisé par : Angelo Ouedraogo\n",
    "\n",
    "Date de réalisation : 22/05/2025\n",
    "\n",
    "Origine du dataset : Kaggle (mettre le lien)\n",
    "\n",
    "Motif du projet : Projet personnel"
   ]
  },
  {
   "cell_type": "markdown",
   "metadata": {},
   "source": [
    "### Objectif du projet "
   ]
  },
  {
   "cell_type": "markdown",
   "metadata": {},
   "source": [
    "Ce projet utilise un jeu de données qui suit l'état de santé d'un certain nombre d'appareils grâce à neuf métriques jusqu'à leur panne ou la fin de la période d'observation. \n",
    "\n",
    "L'objectif ce projet est de pouvoir prédire la durée d'utilisation restante d'un appareil avant une panne (ou obsolescence) à partir des métriques ou de l'historique des métriques sur quelques jours. \n",
    "\n"
   ]
  },
  {
   "cell_type": "markdown",
   "metadata": {},
   "source": [
    "## Importation des bibliothèques nécessaires"
   ]
  },
  {
   "cell_type": "code",
   "execution_count": 1,
   "metadata": {},
   "outputs": [],
   "source": [
    "import numpy as np\n",
    "import pandas as pd\n",
    "import seaborn as sbn\n",
    "import matplotlib.pyplot as plt\n",
    "from sklearn.preprocessing import StandardScaler\n",
    "from sklearn.model_selection import train_test_split\n",
    "from sklearn.neural_network import MLPClassifier\n",
    "from sklearn.metrics import accuracy_score, recall_score\n",
    "from sklearn.ensemble import RandomForestClassifier\n",
    "import random\n",
    "import joblib"
   ]
  },
  {
   "cell_type": "markdown",
   "metadata": {},
   "source": [
    "## Importation et pré-traitement des données "
   ]
  },
  {
   "cell_type": "markdown",
   "metadata": {},
   "source": [
    "### Importation et premières informations"
   ]
  },
  {
   "cell_type": "code",
   "execution_count": 2,
   "metadata": {},
   "outputs": [
    {
     "name": "stdout",
     "output_type": "stream",
     "text": [
      "<class 'pandas.core.frame.DataFrame'>\n",
      "RangeIndex: 124494 entries, 0 to 124493\n",
      "Data columns (total 12 columns):\n",
      " #   Column   Non-Null Count   Dtype \n",
      "---  ------   --------------   ----- \n",
      " 0   date     124494 non-null  object\n",
      " 1   device   124494 non-null  object\n",
      " 2   failure  124494 non-null  int64 \n",
      " 3   metric1  124494 non-null  int64 \n",
      " 4   metric2  124494 non-null  int64 \n",
      " 5   metric3  124494 non-null  int64 \n",
      " 6   metric4  124494 non-null  int64 \n",
      " 7   metric5  124494 non-null  int64 \n",
      " 8   metric6  124494 non-null  int64 \n",
      " 9   metric7  124494 non-null  int64 \n",
      " 10  metric8  124494 non-null  int64 \n",
      " 11  metric9  124494 non-null  int64 \n",
      "dtypes: int64(10), object(2)\n",
      "memory usage: 11.4+ MB\n"
     ]
    }
   ],
   "source": [
    "data = pd.read_csv(\"predictive_maintenance_dataset.csv\")\n",
    "\n",
    "data.info()"
   ]
  },
  {
   "cell_type": "code",
   "execution_count": 3,
   "metadata": {},
   "outputs": [
    {
     "data": {
      "application/vnd.microsoft.datawrangler.viewer.v0+json": {
       "columns": [
        {
         "name": "index",
         "rawType": "object",
         "type": "string"
        },
        {
         "name": "0",
         "rawType": "int64",
         "type": "integer"
        }
       ],
       "ref": "dd737033-a5c8-4be1-b4fe-9ac6abfcb7ea",
       "rows": [
        [
         "date",
         "0"
        ],
        [
         "device",
         "0"
        ],
        [
         "failure",
         "0"
        ],
        [
         "metric1",
         "0"
        ],
        [
         "metric2",
         "0"
        ],
        [
         "metric3",
         "0"
        ],
        [
         "metric4",
         "0"
        ],
        [
         "metric5",
         "0"
        ],
        [
         "metric6",
         "0"
        ],
        [
         "metric7",
         "0"
        ],
        [
         "metric8",
         "0"
        ],
        [
         "metric9",
         "0"
        ]
       ],
       "shape": {
        "columns": 1,
        "rows": 12
       }
      },
      "text/plain": [
       "date       0\n",
       "device     0\n",
       "failure    0\n",
       "metric1    0\n",
       "metric2    0\n",
       "metric3    0\n",
       "metric4    0\n",
       "metric5    0\n",
       "metric6    0\n",
       "metric7    0\n",
       "metric8    0\n",
       "metric9    0\n",
       "dtype: int64"
      ]
     },
     "execution_count": 3,
     "metadata": {},
     "output_type": "execute_result"
    }
   ],
   "source": [
    "data.isna().sum()"
   ]
  },
  {
   "cell_type": "markdown",
   "metadata": {},
   "source": [
    "Le premier constat à effectuer est sur les valeurs manquantes. On remarque donc qu'il n'y a aucune action à faire à ce sujet car on a 124494 observations et pour chaque variable on a autant d'entrées non-null. On revérifie quand même avec la fonction isna.  \n",
    "On remarque ensuite que la variable 'date' est de type object, ce qui ne nous permettra pas de faire les opérations sur les dates (différence entre deux dates par exemple), alors nous devrions convertir cette colonne de notre dataframe en colonne de type datetime. "
   ]
  },
  {
   "cell_type": "markdown",
   "metadata": {},
   "source": [
    "#### Conversion de notre colonne 'date' en type datetime"
   ]
  },
  {
   "cell_type": "code",
   "execution_count": 4,
   "metadata": {},
   "outputs": [],
   "source": [
    "data[\"date\"] = pd.to_datetime(data[\"date\"], format=\"%m/%d/%Y\")"
   ]
  },
  {
   "cell_type": "markdown",
   "metadata": {},
   "source": [
    "### Etude plus fine du dataset"
   ]
  },
  {
   "cell_type": "markdown",
   "metadata": {},
   "source": [
    "Une fois cette conversion faite, on peut alors tirer de premières informations générales sur notre jeu de données."
   ]
  },
  {
   "cell_type": "code",
   "execution_count": 5,
   "metadata": {},
   "outputs": [
    {
     "name": "stdout",
     "output_type": "stream",
     "text": [
      "Il y a 124494 observations concernant un total de 1169 appareils différents.\n",
      "La période s'étend du 01/01/2015 au 02/11/2015, soit 306 jours.\n"
     ]
    }
   ],
   "source": [
    "print(f\"Il y a {len(data)} observations concernant un total de {len(data['device'].unique())} appareils différents.\")\n",
    "print(f\"La période s'étend du {data['date'].min().strftime('%d/%m/%Y')} au {data['date'].max().strftime('%d/%m/%Y')}, soit {(data['date'].max() - data['date'].min()+pd.Timedelta(days=1)).days} jours.\")"
   ]
  },
  {
   "cell_type": "markdown",
   "metadata": {},
   "source": [
    "On a alors 9 métriques définies par des entiers permettant d'évaluer l'état de 1169 appareils (identifiés par un code) sur une étendue de 305 jours. Ayant l'impression que les métriques 7 et 8 sont souvent égales, analysons donc la corrélation entre les métriques pour vérifier qu'elles sont toutes utiles et indépendantes. "
   ]
  },
  {
   "cell_type": "code",
   "execution_count": 6,
   "metadata": {},
   "outputs": [
    {
     "data": {
      "image/png": "[encoded data removed]",
      "text/plain": [
       "<Figure size 640x480 with 2 Axes>"
      ]
     },
     "metadata": {},
     "output_type": "display_data"
    }
   ],
   "source": [
    "metrics = data.drop([\"date\", \"device\", \"failure\"], axis=1)\n",
    "corr = metrics.corr()\n",
    "#plt.figure(figsize=(8, 6))\n",
    "sbn.heatmap(corr, annot=True, cmap=\"coolwarm\", fmt=\".2f\", linewidths=0.5)\n",
    "\n",
    "plt.title(\"Matrice de corrélation\")\n",
    "plt.show()"
   ]
  },
  {
   "cell_type": "code",
   "execution_count": 7,
   "metadata": {},
   "outputs": [
    {
     "name": "stdout",
     "output_type": "stream",
     "text": [
      " La différence absolue maximale entre les observations des métriques 7 et 8 vaut 0\n"
     ]
    }
   ],
   "source": [
    "print(f\" La différence absolue maximale entre les observations des métriques 7 et 8 vaut {np.abs(data['metric7']-data['metric8']).max()}\")"
   ]
  },
  {
   "cell_type": "markdown",
   "metadata": {},
   "source": [
    "On remarque donc une corrélation maximale qui s'avère être une égalité entre les métriques 7 et 8. Il est donc inutile de conserver les deux à la fois, nous faisons alors le choix arbitraire de supprimer la métrique 8. Concernant les autres métriques, on constate très vite sur la heatmap qu'elles sont toutes indépendantes, donc à conserver. "
   ]
  },
  {
   "cell_type": "code",
   "execution_count": 8,
   "metadata": {},
   "outputs": [],
   "source": [
    "data = data.drop(\"metric8\", axis=1)"
   ]
  },
  {
   "cell_type": "markdown",
   "metadata": {},
   "source": [
    "On s'intéresse ensuite  à la durée et au nombre d'observations par appareil. "
   ]
  },
  {
   "cell_type": "code",
   "execution_count": 9,
   "metadata": {},
   "outputs": [
    {
     "data": {
      "application/vnd.microsoft.datawrangler.viewer.v0+json": {
       "columns": [
        {
         "name": "device",
         "rawType": "object",
         "type": "string"
        },
        {
         "name": "date",
         "rawType": "timedelta64[ns]",
         "type": "unknown"
        }
       ],
       "ref": "a30327b9-cde6-4bfe-add8-a6a5341bc8b1",
       "rows": [
        [
         "S1F01085",
         "6 days 00:00:00"
        ],
        [
         "S1F013BB",
         "6 days 00:00:00"
        ],
        [
         "S1F0166B",
         "6 days 00:00:00"
        ],
        [
         "S1F01E6Y",
         "48 days 00:00:00"
        ],
        [
         "S1F01JE0",
         "6 days 00:00:00"
        ],
        [
         "S1F01R2B",
         "236 days 00:00:00"
        ],
        [
         "S1F01TD5",
         "6 days 00:00:00"
        ],
        [
         "S1F01XDJ",
         "106 days 00:00:00"
        ],
        [
         "S1F023H2",
         "19 days 00:00:00"
        ],
        [
         "S1F02A0J",
         "240 days 00:00:00"
        ],
        [
         "S1F02DZ2",
         "6 days 00:00:00"
        ],
        [
         "S1F02EVN",
         "6 days 00:00:00"
        ],
        [
         "S1F02L38",
         "86 days 00:00:00"
        ],
        [
         "S1F02MGA",
         "6 days 00:00:00"
        ],
        [
         "S1F02P76",
         "6 days 00:00:00"
        ],
        [
         "S1F02VAX",
         "6 days 00:00:00"
        ],
        [
         "S1F02W1L",
         "6 days 00:00:00"
        ],
        [
         "S1F02WFT",
         "6 days 00:00:00"
        ],
        [
         "S1F02XLX",
         "6 days 00:00:00"
        ],
        [
         "S1F0318A",
         "6 days 00:00:00"
        ],
        [
         "S1F0322R",
         "6 days 00:00:00"
        ],
        [
         "S1F0330P",
         "6 days 00:00:00"
        ],
        [
         "S1F03499",
         "6 days 00:00:00"
        ],
        [
         "S1F035SJ",
         "6 days 00:00:00"
        ],
        [
         "S1F0377V",
         "6 days 00:00:00"
        ],
        [
         "S1F039FE",
         "6 days 00:00:00"
        ],
        [
         "S1F03RV3",
         "5 days 00:00:00"
        ],
        [
         "S1F03YZM",
         "215 days 00:00:00"
        ],
        [
         "S1F044ET",
         "236 days 00:00:00"
        ],
        [
         "S1F049RX",
         "6 days 00:00:00"
        ],
        [
         "S1F04DH8",
         "82 days 00:00:00"
        ],
        [
         "S1F04KSC",
         "4 days 00:00:00"
        ],
        [
         "S1F04MVQ",
         "6 days 00:00:00"
        ],
        [
         "S1F04R7Y",
         "6 days 00:00:00"
        ],
        [
         "S1F04TS4",
         "6 days 00:00:00"
        ],
        [
         "S1F04Y6C",
         "6 days 00:00:00"
        ],
        [
         "S1F059G0",
         "6 days 00:00:00"
        ],
        [
         "S1F05AFP",
         "6 days 00:00:00"
        ],
        [
         "S1F05B1Q",
         "6 days 00:00:00"
        ],
        [
         "S1F05NAJ",
         "5 days 00:00:00"
        ],
        [
         "S1F05P51",
         "5 days 00:00:00"
        ],
        [
         "S1F05P5Z",
         "5 days 00:00:00"
        ],
        [
         "S1F06E04",
         "6 days 00:00:00"
        ],
        [
         "S1F06F7K",
         "6 days 00:00:00"
        ],
        [
         "S1F06R6W",
         "6 days 00:00:00"
        ],
        [
         "S1F06ZX2",
         "131 days 00:00:00"
        ],
        [
         "S1F08R94",
         "5 days 00:00:00"
        ],
        [
         "S1F08S38",
         "5 days 00:00:00"
        ],
        [
         "S1F09DZQ",
         "199 days 00:00:00"
        ],
        [
         "S1F09MAK",
         "5 days 00:00:00"
        ]
       ],
       "shape": {
        "columns": 1,
        "rows": 1169
       }
      },
      "text/plain": [
       "device\n",
       "S1F01085     6 days\n",
       "S1F013BB     6 days\n",
       "S1F0166B     6 days\n",
       "S1F01E6Y    48 days\n",
       "S1F01JE0     6 days\n",
       "             ...   \n",
       "Z1F1VMZB   292 days\n",
       "Z1F1VQFY   181 days\n",
       "Z1F26YZB    84 days\n",
       "Z1F282ZV    84 days\n",
       "Z1F2PBHX    96 days\n",
       "Name: date, Length: 1169, dtype: timedelta64[ns]"
      ]
     },
     "execution_count": 9,
     "metadata": {},
     "output_type": "execute_result"
    }
   ],
   "source": [
    "result = data.groupby(\"device\")[\"date\"].agg(lambda x: x.max() - x.min()+pd.Timedelta(days=1))\n",
    "result.sort_index()"
   ]
  },
  {
   "cell_type": "code",
   "execution_count": 10,
   "metadata": {},
   "outputs": [
    {
     "name": "stdout",
     "output_type": "stream",
     "text": [
      "device\n",
      "S1F01085      6\n",
      "S1F013BB      6\n",
      "S1F0166B      6\n",
      "S1F01E6Y     48\n",
      "S1F01JE0      6\n",
      "           ... \n",
      "Z1F1VMZB    292\n",
      "Z1F1VQFY    125\n",
      "Z1F26YZB     84\n",
      "Z1F282ZV     84\n",
      "Z1F2PBHX     83\n",
      "Name: count, Length: 1169, dtype: int64\n",
      "Le nombre d'apparils utilisés de façon discontinue est 173.\n"
     ]
    }
   ],
   "source": [
    "print((data['device'].value_counts()).sort_index())\n",
    "\n",
    "diff = (data['device'].value_counts()).sort_index() - result.dt.days\n",
    "print(f\"Le nombre d'apparils utilisés de façon discontinue est {np.count_nonzero(diff)}.\")\n"
   ]
  },
  {
   "cell_type": "markdown",
   "metadata": {},
   "source": [
    "On observe donc que certains appareils ne sont pas utilisés sur toute l'étendue de la période étudiée. \n",
    "On peut remarquer également la discontinuité dans l'utilisation pour 173 appareils (par exemple l'appareil Z1F1VQFY) qui n'apparaissent pas certains jours, on peut supposer alors qu'il y a une rotation mise en place ou que certains équipements spécifiques ne sont pas utilisés tous les jours. Cette différence peut être intéressante à considérer, on peut donc rajouter le nombre de jours d'utilisation comme métrique. "
   ]
  },
  {
   "cell_type": "code",
   "execution_count": 11,
   "metadata": {},
   "outputs": [],
   "source": [
    "data[\"use_days\"] = data.groupby(\"device\")[\"date\"].transform(lambda x: x.rank(method=\"dense\").astype(int))"
   ]
  },
  {
   "cell_type": "markdown",
   "metadata": {},
   "source": [
    "On poursuit notre première analyse avec les failures. En regardant le dataset, on remaque assez vite que seulement une petite partie tombent réellement en panne. Affichons alors les noms des appareils qui tombent finalement en panne. "
   ]
  },
  {
   "cell_type": "code",
   "execution_count": 12,
   "metadata": {},
   "outputs": [
    {
     "name": "stdout",
     "output_type": "stream",
     "text": [
      "4885      S1F0RRB1\n",
      "6879      S1F0CTDN\n",
      "8823      W1F0PNA5\n",
      "11957     W1F13SRV\n",
      "12668     W1F1230J\n",
      "            ...   \n",
      "109927    W1F1CB5E\n",
      "114251    Z1F0MRPJ\n",
      "122118    S1F0JGJV\n",
      "122808    Z1F14BGY\n",
      "124329    W1F0T0B1\n",
      "Name: device, Length: 106, dtype: object\n"
     ]
    }
   ],
   "source": [
    "print(data[data['failure'] == 1]['device'])\n"
   ]
  },
  {
   "cell_type": "markdown",
   "metadata": {},
   "source": [
    "Sur les 1169 appareils, seuls 106 tombent en panne sur l'étendue des 305 jours. Ceci n'exclut pas le fait que les autres appareils puissent être tombés en panne au delà de la période d'observation. Notre étude par du principe que tous les appareils tombent en panne, alors nous allons réduire notre jeu de données aux 106 appareils qui tombent réellement en panne. "
   ]
  },
  {
   "cell_type": "code",
   "execution_count": 13,
   "metadata": {},
   "outputs": [],
   "source": [
    "Data_failed = data \n",
    "Failures = Data_failed.groupby('device').agg({'failure' : 'max'})\n",
    "Failures = Failures.rename(columns=({'failure': 'relevant'}))\n",
    "Data_failed = Data_failed.merge(Failures, how='left', on='device')\n",
    "Data_failed = Data_failed[Data_failed['relevant']==1]\n",
    "Data_failed = Data_failed.reset_index(drop=True)\n",
    "Data_failed = Data_failed.drop(['relevant'], axis=1)\n",
    "#Data_failed = Data_failed.drop('device', axis=1)"
   ]
  },
  {
   "cell_type": "code",
   "execution_count": 14,
   "metadata": {},
   "outputs": [
    {
     "name": "stdout",
     "output_type": "stream",
     "text": [
      "Il y a 10713 observations concernant un total de 106 appareils différents.\n",
      "La période s'étend du 01/01/2015 au 26/10/2015, soit 299 jours.\n"
     ]
    }
   ],
   "source": [
    "print(f\"Il y a {len(Data_failed)} observations concernant un total de {len(Data_failed['device'].unique())} appareils différents.\")\n",
    "print(f\"La période s'étend du {Data_failed['date'].min().strftime('%d/%m/%Y')} au {Data_failed['date'].max().strftime('%d/%m/%Y')}, soit {(Data_failed['date'].max() - Data_failed['date'].min()+pd.Timedelta(days=1)).days} jours.\")"
   ]
  },
  {
   "cell_type": "markdown",
   "metadata": {},
   "source": [
    "On reprend alors les informations de base sur notre dataset. On n'a plus que 10713 observations pour les 106 appareils et une période réduite à 298 jours car tous les appareils utilisés au delà du 26/10/2015 ne sont pas tombés en panne entre cette date et le 02/11/2015 (date de fin d'observation). "
   ]
  },
  {
   "cell_type": "markdown",
   "metadata": {},
   "source": [
    "On exporte notre dataset en fichier Excel pour faire une étude par appareil grâce à un dashboard Power BI, qui est plus pratique que Python pour cet aspect. "
   ]
  },
  {
   "cell_type": "code",
   "execution_count": 15,
   "metadata": {},
   "outputs": [],
   "source": [
    "Data_failed.to_csv(\"Failed_devices_dataset_new.csv\")"
   ]
  },
  {
   "cell_type": "markdown",
   "metadata": {},
   "source": [
    "## Remaining Useful Life (RUL)"
   ]
  },
  {
   "cell_type": "markdown",
   "metadata": {},
   "source": [
    "Le Remaining Uselful Life est la durée d'utilisation restante d'un appareil. Elle sera notre variable d'intérêt mais elle n'apparait pas encore dans notre dataset, nous allons donc la calculer et l'ajouter au dataset pour pouvoir travailler dessus. On l'obtient en soutrayant la date d'observation à la date de panne."
   ]
  },
  {
   "cell_type": "markdown",
   "metadata": {},
   "source": [
    "### Calcul du RUL"
   ]
  },
  {
   "cell_type": "code",
   "execution_count": 16,
   "metadata": {},
   "outputs": [],
   "source": [
    "Data_failed['date_max'] = Data_failed.groupby(\"device\")['date'].transform('max')\n",
    "Data_failed['RUL'] = Data_failed['date_max'] - Data_failed['date']\n",
    "Data_failed[\"RUL\"] = Data_failed[\"RUL\"].dt.days\n",
    "Data_failed = Data_failed.drop([\"date_max\"], axis=1)"
   ]
  },
  {
   "cell_type": "markdown",
   "metadata": {},
   "source": [
    "## Mise en place des modèles "
   ]
  },
  {
   "cell_type": "markdown",
   "metadata": {},
   "source": [
    "J'ai voulu tester un premier modèle sans grande réflexion pour avoir une idée de la qualité et la richesse des données. Je me suis alors lancé sur un réseau de neurones Multi-Layer Perceptron (car je l'ai déjà utilisé plusieurs fois) pour prédire directement le RUL en fonction des métriques, sans prendre en compte les dépendances temporelles. "
   ]
  },
  {
   "cell_type": "markdown",
   "metadata": {},
   "source": [
    "### Neural Network on RUL value"
   ]
  },
  {
   "cell_type": "markdown",
   "metadata": {},
   "source": [
    "On crée alors notre ensemble de variables explicatives X en prenant le soin d'enlever la date, le nom du device, la variable failure et le RUL qu'on place dans y (la variable cible). On standardise pour mettre toutes les variables à la même échelle et on sépare notre dataset en jeu d'entrainement et jeu de test."
   ]
  },
  {
   "cell_type": "code",
   "execution_count": 17,
   "metadata": {},
   "outputs": [],
   "source": [
    "X_raw = Data_failed.drop(['date', 'device', 'failure', 'RUL'], axis=1)\n",
    "y = Data_failed['RUL']\n",
    "X = StandardScaler().fit_transform(X_raw)\n",
    "X_train, X_test, y_train, y_test = train_test_split(X,y)"
   ]
  },
  {
   "cell_type": "markdown",
   "metadata": {},
   "source": [
    "On entraine alors notre modèle MLP (choix des couches arbitraire) tout en sachant qu'il sera très compliqué de prédire de manière exacte le RUL. "
   ]
  },
  {
   "cell_type": "code",
   "execution_count": 18,
   "metadata": {},
   "outputs": [
    {
     "name": "stdout",
     "output_type": "stream",
     "text": [
      "Test accuracy pour MLPclassifier: 0.03844718178424785\n",
      "ecart aboslu moyen: 9.180291153415453\n",
      "ecart absolu inférieur à 10: 2451 sur un total de 2679 prédictions\n"
     ]
    }
   ],
   "source": [
    "model_mlp = MLPClassifier(hidden_layer_sizes=(400, 300, 300, 300, 300, 300, 400), max_iter=1000, random_state=42, activation='relu', solver='adam')\n",
    "model_mlp.fit(X_train, y_train)\n",
    "\n",
    "# Prédictions sur les données de test\n",
    "predictions_mlp = model_mlp.predict(X_test)\n",
    "\n",
    "# Évaluation de l'efficacité du modèle\n",
    "accuracy_mlp = accuracy_score(y_test, predictions_mlp)\n",
    "print(f'Test accuracy pour MLPclassifier: {accuracy_mlp}')\n",
    "\n",
    "ecart = predictions_mlp - y_test\n",
    "ecart_abs = np.abs(ecart)\n",
    "print(f'ecart aboslu moyen: {np.mean(ecart_abs)}')\n",
    "print(f'ecart absolu inférieur à 10: {(ecart_abs < 10).sum()} sur un total de {len(ecart_abs)} prédictions')"
   ]
  },
  {
   "cell_type": "markdown",
   "metadata": {},
   "source": [
    "Comme prévu, l'accuracy est quasiment nulle. Mais ce qui est intéressant à regarder ici c'est l'écart absolu à la bonne valeur. On a un écart abolu moyen de moins 9 jours, ce qui est plutôt encourageant. On a également 2449 prédictions sur un total de 2679 (soit plus de 90%) qui sont assez proches (à moins de 10 jours) de la bonne valeur. Pour faire un planning de mainteance prédictive il est inutile d'avoir le RUL au jour près, mais savoir si l'appareil risque de tomber en panne sous 10 ou 15 jours par exemple (l\"échelle se modifie à notre guise mais l'important est l'idée d'un plage). "
   ]
  },
  {
   "cell_type": "markdown",
   "metadata": {},
   "source": [
    "Pour exploiter cette idée, nous alors créer des classes de criticité en fonction du RUL. Cela permettra d'avoir une plage étendue plutôt qu'un nombre difficilement prévisible avec précision. On pourra donc tester un algorithme de classification comme le random forest. "
   ]
  },
  {
   "cell_type": "markdown",
   "metadata": {},
   "source": [
    "### Création de classes"
   ]
  },
  {
   "cell_type": "markdown",
   "metadata": {},
   "source": [
    "Il y a énormément de façon de découper le RUL en classes, que ce soit le nombre de classes ou les seuils de criticité. Le plus important est de conserver une interprétabilité et une cohérence, alors un nombre de classes de 3 ou 4 semble adapté. Concernant les seuils, une discussion avec le corps métier est nécessaire pour avoir des seuils correspondant au planning de maintenance, ou au moins pertinents pour créer ce planning. Par exemple un classe avec un RUL entre 0 et 60 jours pourrait garantir une précision très proche de 100% mais serait pratiquement inutilisable. "
   ]
  },
  {
   "cell_type": "code",
   "execution_count": 19,
   "metadata": {},
   "outputs": [],
   "source": [
    "#conditions = [(Failed['RUL'] < 8), (Failed['RUL'] < 15), (Failed['RUL'] < 31)]\n",
    "conditions = [(Data_failed['RUL'] < 16), (Data_failed['RUL'] < 31), (Data_failed['RUL'] < 46)]\n",
    "values = ['Critique', 'Important', 'Modere']\n",
    "Data_failed['Criticité'] = np.select(conditions, values, default='Secondaire')\n",
    "Failed_class = Data_failed.drop('RUL', axis=1)"
   ]
  },
  {
   "cell_type": "markdown",
   "metadata": {},
   "source": [
    "J'ai fixé les seuils à 15 jours, 30 jours et 45 jours estimant que, de prime abord, ces chiffres sont cohérents avec un planning de maintenance tout en ayant le potentiel d'aboutir à un modèle assez précis (en fonction des chiffres obtenus après le MLP). Ces choix seront évidemment à rediscuter avec le corps métier."
   ]
  },
  {
   "cell_type": "markdown",
   "metadata": {},
   "source": [
    "### Classification"
   ]
  },
  {
   "cell_type": "markdown",
   "metadata": {},
   "source": [
    "On sépare notre dataset en jeu d'entrainement et jeu de test. "
   ]
  },
  {
   "cell_type": "code",
   "execution_count": 20,
   "metadata": {},
   "outputs": [],
   "source": [
    "y = Failed_class['Criticité']\n",
    "X_train, X_test, y_train, y_test = train_test_split(X,y)"
   ]
  },
  {
   "cell_type": "markdown",
   "metadata": {},
   "source": [
    "#### Random Forest"
   ]
  },
  {
   "cell_type": "code",
   "execution_count": 21,
   "metadata": {},
   "outputs": [
    {
     "name": "stdout",
     "output_type": "stream",
     "text": [
      "Le pourcentage de bien classés est de : 97.42441209406495 %\n"
     ]
    }
   ],
   "source": [
    "model_rf = RandomForestClassifier(n_estimators=100)\n",
    "model_rf.fit(X_train, y_train)\n",
    "from sklearn.metrics import accuracy_score, confusion_matrix\n",
    "print(f\"Le pourcentage de bien classés est de : {accuracy_score(y_test, model_rf.predict(X_test))*100} %\")"
   ]
  },
  {
   "cell_type": "markdown",
   "metadata": {},
   "source": [
    "#### Discussion sur les métriques"
   ]
  },
  {
   "cell_type": "markdown",
   "metadata": {},
   "source": [
    "On obtient une accuracy de 96%, ce qui est un très bon résultat. L'accuracy est une métrique qui permet de mesurer la qualité globale de notre modèle mais elle n'est pas la plus pertiennte ici. La classe 'critique' étant la plus importante à prendre en compte, notre modèle doit être évalué sur sa capacité à capter un maximum de cas critiques. Pour ce faire, on va donc évaluer notre modèle avec la métrique Recall (le rappel) sur la classe critique, tout en ayant un regard sur le Recall des autres classes. \n",
    "\n",
    "Le Recall se calcule en divisant le nombre de vrais critiques prédits par le nombre réel de critiques. "
   ]
  },
  {
   "cell_type": "code",
   "execution_count": 22,
   "metadata": {},
   "outputs": [
    {
     "data": {
      "application/vnd.microsoft.datawrangler.viewer.v0+json": {
       "columns": [
        {
         "name": "index",
         "rawType": "object",
         "type": "string"
        },
        {
         "name": "Critique_predit",
         "rawType": "int64",
         "type": "integer"
        },
        {
         "name": "Important_predit",
         "rawType": "int64",
         "type": "integer"
        },
        {
         "name": "Modere_predit",
         "rawType": "int64",
         "type": "integer"
        },
        {
         "name": "Secondaire_predit",
         "rawType": "int64",
         "type": "integer"
        }
       ],
       "ref": "36dc872e-fc34-49c9-adb0-63a3e84518cf",
       "rows": [
        [
         "Critique_données",
         "361",
         "10",
         "0",
         "8"
        ],
        [
         "Important_données",
         "9",
         "267",
         "13",
         "4"
        ],
        [
         "Modere_données",
         "0",
         "9",
         "246",
         "10"
        ],
        [
         "Secondaire_données",
         "2",
         "0",
         "4",
         "1736"
        ]
       ],
       "shape": {
        "columns": 4,
        "rows": 4
       }
      },
      "text/html": [
       "<div>\n",
       "<style scoped>\n",
       "    .dataframe tbody tr th:only-of-type {\n",
       "        vertical-align: middle;\n",
       "    }\n",
       "\n",
       "    .dataframe tbody tr th {\n",
       "        vertical-align: top;\n",
       "    }\n",
       "\n",
       "    .dataframe thead th {\n",
       "        text-align: right;\n",
       "    }\n",
       "</style>\n",
       "<table border=\"1\" class=\"dataframe\">\n",
       "  <thead>\n",
       "    <tr style=\"text-align: right;\">\n",
       "      <th></th>\n",
       "      <th>Critique_predit</th>\n",
       "      <th>Important_predit</th>\n",
       "      <th>Modere_predit</th>\n",
       "      <th>Secondaire_predit</th>\n",
       "    </tr>\n",
       "  </thead>\n",
       "  <tbody>\n",
       "    <tr>\n",
       "      <th>Critique_données</th>\n",
       "      <td>361</td>\n",
       "      <td>10</td>\n",
       "      <td>0</td>\n",
       "      <td>8</td>\n",
       "    </tr>\n",
       "    <tr>\n",
       "      <th>Important_données</th>\n",
       "      <td>9</td>\n",
       "      <td>267</td>\n",
       "      <td>13</td>\n",
       "      <td>4</td>\n",
       "    </tr>\n",
       "    <tr>\n",
       "      <th>Modere_données</th>\n",
       "      <td>0</td>\n",
       "      <td>9</td>\n",
       "      <td>246</td>\n",
       "      <td>10</td>\n",
       "    </tr>\n",
       "    <tr>\n",
       "      <th>Secondaire_données</th>\n",
       "      <td>2</td>\n",
       "      <td>0</td>\n",
       "      <td>4</td>\n",
       "      <td>1736</td>\n",
       "    </tr>\n",
       "  </tbody>\n",
       "</table>\n",
       "</div>"
      ],
      "text/plain": [
       "                    Critique_predit  Important_predit  Modere_predit  \\\n",
       "Critique_données                361                10              0   \n",
       "Important_données                 9               267             13   \n",
       "Modere_données                    0                 9            246   \n",
       "Secondaire_données                2                 0              4   \n",
       "\n",
       "                    Secondaire_predit  \n",
       "Critique_données                    8  \n",
       "Important_données                   4  \n",
       "Modere_données                     10  \n",
       "Secondaire_données               1736  "
      ]
     },
     "execution_count": 22,
     "metadata": {},
     "output_type": "execute_result"
    }
   ],
   "source": [
    "matrice_confusion = pd.DataFrame(confusion_matrix(y_test, model_rf.predict(X_test)),\n",
    "             index = [\"Critique_données\", \"Important_données\", \"Modere_données\", \"Secondaire_données\"],\n",
    "             columns = [\"Critique_predit\", \"Important_predit\", \"Modere_predit\", \"Secondaire_predit\"])\n",
    "matrice_confusion"
   ]
  },
  {
   "cell_type": "code",
   "execution_count": 23,
   "metadata": {},
   "outputs": [
    {
     "name": "stdout",
     "output_type": "stream",
     "text": [
      "Le recall de la classe Critique pour le random forest vaut 0.9525065963060686.\n",
      "Le recall de la classe Important pour le random forest vaut 0.9112627986348123.\n",
      "Le recall de la classe Modere pour le random forest vaut 0.9283018867924528.\n",
      "Le recall de la classe Secondaire pour le random forest vaut 0.9965556831228473.\n"
     ]
    }
   ],
   "source": [
    "classes = [\"Critique\", \"Important\", \"Modere\", \"Secondaire\"]\n",
    "for i in range(4):\n",
    "    print(f\"Le recall de la classe {classes[i]} pour le random forest vaut {recall_score(y_test, model_rf.predict(X_test), average= None)[i]}.\")"
   ]
  },
  {
   "cell_type": "markdown",
   "metadata": {},
   "source": [
    "Notre modèle capte donc 94% des appareils en classe critique ce qui est très satisfaisant. Ensuite on capte respectivement 88% et 87% pour les classes important et modéré et enfin 99% pour la clsse secondaire. \n",
    "\n",
    "On peut même nuancer le score des classes intermédiaires car le plus imprtant est de ne pas sous-évaluer notre appareil. En effet, si la maintenance d'un appareil est effectuée 10 jours en avance ce n'est pas un drame tant que le taux du surévaluation reste raisonnable, et on préfère largement le faire 10 jours en avance plutôt que 10 jours en retard. On peut donc créer un nouvelle métrique en comptant le nombre de bien classés ou surclassés, donc le nombre d'appareils qui seront pris en charge au moins à temps (ou en avance). \n",
    "\n",
    "Nb : nous allons enlever la catégorie \"Secondaire\" pour calculer nos métriques car elle a une importance moindre mais un très gros impact sur les calculs."
   ]
  },
  {
   "cell_type": "code",
   "execution_count": 24,
   "metadata": {},
   "outputs": [
    {
     "name": "stdout",
     "output_type": "stream",
     "text": [
      "Le pourcentage d'appareils qui seront pris en charge à temps (ou en avance) est 95.1974386339381 %.\n",
      "Le pourcentage d'appareils qui seront pris en charge en avance est 0.0192102454642476 %.\n"
     ]
    }
   ],
   "source": [
    "# Calculer la somme cumulée des lignes\n",
    "somme_cumulee = matrice_confusion.drop('Secondaire_données').cumsum(axis=1)\n",
    "\n",
    "# Diviser chaque ligne par la somme totale de cette ligne\n",
    "print(f\"Le pourcentage d'appareils qui seront pris en charge à temps (ou en avance) est {(np.diag(somme_cumulee)).sum() / matrice_confusion.drop('Secondaire_données').sum().sum() * 100} %.\")\n",
    "print(f\"Le pourcentage d'appareils qui seront pris en charge en avance est {(np.diag(somme_cumulee, k=-1)).sum() / matrice_confusion.drop('Secondaire_données').sum().sum()} %.\")"
   ]
  },
  {
   "cell_type": "markdown",
   "metadata": {},
   "source": [
    "Notre modèle permet donc de prendre 92% des appareils en charge à temps avec un très faible taux de prises en charge prématurée. On peut donc être satisfait de ce modèle en gardant à l'esprit la perspective d'amélioration."
   ]
  },
  {
   "cell_type": "markdown",
   "metadata": {},
   "source": [
    "### Temporalité"
   ]
  },
  {
   "cell_type": "markdown",
   "metadata": {},
   "source": [
    "Une perpective d'améliration est la prise en compte de la temporalité de nos données. En effet, les modèles utilisés jusque-là ne prenaient pas en compte le fait que nos données soient en réalité des séries temporelles. Une façon pertinente de le prendre un compte est de partir sur un RNN."
   ]
  },
  {
   "cell_type": "code",
   "execution_count": 25,
   "metadata": {},
   "outputs": [],
   "source": [
    "import numpy as np\n",
    "import pandas as pd\n",
    "import tensorflow as tf\n",
    "from tensorflow.keras.models import Sequential\n",
    "from tensorflow.keras.layers import Dense, LSTM\n",
    "from sklearn.preprocessing import MinMaxScaler\n",
    "from sklearn.preprocessing import OrdinalEncoder"
   ]
  },
  {
   "cell_type": "code",
   "execution_count": 26,
   "metadata": {},
   "outputs": [],
   "source": [
    "\n",
    "from sklearn.utils.class_weight import compute_class_weight\n"
   ]
  },
  {
   "cell_type": "markdown",
   "metadata": {},
   "source": [
    "#### Transformation en séries temporelles"
   ]
  },
  {
   "cell_type": "code",
   "execution_count": 27,
   "metadata": {},
   "outputs": [],
   "source": [
    "data = Data_failed.copy()\n",
    "\n",
    "encoder = OrdinalEncoder(categories=[[\"Critique\", \"Important\", \"Modere\",\"Secondaire\"]])  \n",
    "encoded = encoder.fit_transform(np.array(Data_failed['Criticité']).reshape(-1, 1))\n",
    "Data_failed['Criticité_encoded'] = encoded.astype(int)\n",
    "\n",
    "# Sélection des colonnes utiles\n",
    "features = [\"metric1\", \"metric2\", \"metric3\", \"metric4\", \"metric5\", \"metric6\", \"metric7\", \"metric9\", \"use_days\"]  # Remplace par les bonnes métriques\n",
    "target = \"Criticité_encoded\"\n",
    "\n",
    "# Normalisation des données\n",
    "#scaler = MinMaxScaler()\n",
    "#Data_failed[features] = scaler.fit_transform(Data_failed[features])\n",
    "\n",
    "# Conversion en séquences temporelles\n",
    "sequence_length = 3  # Nombre de jours historiques utilisés pour la prédiction\n",
    "X, y = [], []\n",
    "\n",
    "# Création d'un dictionnaire contenant les groupes par device\n",
    "grouped_devices = Data_failed.groupby('device')\n",
    "\n",
    "X, y = [], []\n",
    "\n",
    "for device, Data_device in grouped_devices:\n",
    "    for i in range(len(Data_device) - sequence_length):\n",
    "        X.append(Data_device[features].iloc[i:i+sequence_length].values)\n",
    "        y.append(Data_device[target].iloc[i+sequence_length])\n",
    "\n",
    "X, y = np.array(X), np.array(y)\n",
    "X_train, X_test, y_train, y_test = train_test_split(X,y)"
   ]
  },
  {
   "cell_type": "code",
   "execution_count": 48,
   "metadata": {},
   "outputs": [
    {
     "name": "stdout",
     "output_type": "stream",
     "text": [
      "Epoch 1/100\n"
     ]
    },
    {
     "name": "stderr",
     "output_type": "stream",
     "text": [
      "d:\\Mini-Projet-3-Prediction-de-pannes\\.venv\\Lib\\site-packages\\keras\\src\\layers\\rnn\\rnn.py:199: UserWarning: Do not pass an `input_shape`/`input_dim` argument to a layer. When using Sequential models, prefer using an `Input(shape)` object as the first layer in the model instead.\n",
      "  super().__init__(**kwargs)\n"
     ]
    },
    {
     "name": "stdout",
     "output_type": "stream",
     "text": [
      "\u001b[1m3898/3898\u001b[0m \u001b[32m━━━━━━━━━━━━━━━━━━━━\u001b[0m\u001b[37m\u001b[0m \u001b[1m14s\u001b[0m 3ms/step - loss: 1.4055\n",
      "Epoch 2/100\n",
      "\u001b[1m3898/3898\u001b[0m \u001b[32m━━━━━━━━━━━━━━━━━━━━\u001b[0m\u001b[37m\u001b[0m \u001b[1m21s\u001b[0m 3ms/step - loss: 1.3865\n",
      "Epoch 3/100\n",
      "\u001b[1m3898/3898\u001b[0m \u001b[32m━━━━━━━━━━━━━━━━━━━━\u001b[0m\u001b[37m\u001b[0m \u001b[1m11s\u001b[0m 3ms/step - loss: 1.3670\n",
      "Epoch 4/100\n",
      "\u001b[1m3898/3898\u001b[0m \u001b[32m━━━━━━━━━━━━━━━━━━━━\u001b[0m\u001b[37m\u001b[0m \u001b[1m11s\u001b[0m 3ms/step - loss: 1.3769\n",
      "Epoch 5/100\n",
      "\u001b[1m3898/3898\u001b[0m \u001b[32m━━━━━━━━━━━━━━━━━━━━\u001b[0m\u001b[37m\u001b[0m \u001b[1m21s\u001b[0m 3ms/step - loss: 1.3768\n",
      "Epoch 6/100\n",
      "\u001b[1m3898/3898\u001b[0m \u001b[32m━━━━━━━━━━━━━━━━━━━━\u001b[0m\u001b[37m\u001b[0m \u001b[1m11s\u001b[0m 3ms/step - loss: 1.4028\n",
      "Epoch 7/100\n",
      "\u001b[1m3898/3898\u001b[0m \u001b[32m━━━━━━━━━━━━━━━━━━━━\u001b[0m\u001b[37m\u001b[0m \u001b[1m11s\u001b[0m 3ms/step - loss: 1.3825\n",
      "Epoch 8/100\n",
      "\u001b[1m3898/3898\u001b[0m \u001b[32m━━━━━━━━━━━━━━━━━━━━\u001b[0m\u001b[37m\u001b[0m \u001b[1m11s\u001b[0m 3ms/step - loss: 1.3927\n",
      "Epoch 9/100\n",
      "\u001b[1m3898/3898\u001b[0m \u001b[32m━━━━━━━━━━━━━━━━━━━━\u001b[0m\u001b[37m\u001b[0m \u001b[1m21s\u001b[0m 3ms/step - loss: 1.3844\n",
      "Epoch 10/100\n",
      "\u001b[1m3898/3898\u001b[0m \u001b[32m━━━━━━━━━━━━━━━━━━━━\u001b[0m\u001b[37m\u001b[0m \u001b[1m11s\u001b[0m 3ms/step - loss: 1.3954\n",
      "Epoch 11/100\n",
      "\u001b[1m3898/3898\u001b[0m \u001b[32m━━━━━━━━━━━━━━━━━━━━\u001b[0m\u001b[37m\u001b[0m \u001b[1m21s\u001b[0m 3ms/step - loss: 1.3600\n",
      "Epoch 12/100\n",
      "\u001b[1m3898/3898\u001b[0m \u001b[32m━━━━━━━━━━━━━━━━━━━━\u001b[0m\u001b[37m\u001b[0m \u001b[1m11s\u001b[0m 3ms/step - loss: 1.3890\n",
      "Epoch 13/100\n",
      "\u001b[1m3898/3898\u001b[0m \u001b[32m━━━━━━━━━━━━━━━━━━━━\u001b[0m\u001b[37m\u001b[0m \u001b[1m11s\u001b[0m 3ms/step - loss: 1.3522\n",
      "Epoch 14/100\n",
      "\u001b[1m3898/3898\u001b[0m \u001b[32m━━━━━━━━━━━━━━━━━━━━\u001b[0m\u001b[37m\u001b[0m \u001b[1m11s\u001b[0m 3ms/step - loss: 1.3816\n",
      "Epoch 15/100\n",
      "\u001b[1m3898/3898\u001b[0m \u001b[32m━━━━━━━━━━━━━━━━━━━━\u001b[0m\u001b[37m\u001b[0m \u001b[1m21s\u001b[0m 3ms/step - loss: 1.3815\n",
      "Epoch 16/100\n",
      "\u001b[1m3898/3898\u001b[0m \u001b[32m━━━━━━━━━━━━━━━━━━━━\u001b[0m\u001b[37m\u001b[0m \u001b[1m12s\u001b[0m 3ms/step - loss: 1.3693\n",
      "Epoch 17/100\n",
      "\u001b[1m3898/3898\u001b[0m \u001b[32m━━━━━━━━━━━━━━━━━━━━\u001b[0m\u001b[37m\u001b[0m \u001b[1m11s\u001b[0m 3ms/step - loss: 1.3871\n",
      "Epoch 18/100\n",
      "\u001b[1m3898/3898\u001b[0m \u001b[32m━━━━━━━━━━━━━━━━━━━━\u001b[0m\u001b[37m\u001b[0m \u001b[1m11s\u001b[0m 3ms/step - loss: 1.3685\n",
      "Epoch 19/100\n",
      "\u001b[1m3898/3898\u001b[0m \u001b[32m━━━━━━━━━━━━━━━━━━━━\u001b[0m\u001b[37m\u001b[0m \u001b[1m11s\u001b[0m 3ms/step - loss: 1.3610\n",
      "Epoch 20/100\n",
      "\u001b[1m3898/3898\u001b[0m \u001b[32m━━━━━━━━━━━━━━━━━━━━\u001b[0m\u001b[37m\u001b[0m \u001b[1m11s\u001b[0m 3ms/step - loss: 1.3769\n",
      "Epoch 21/100\n",
      "\u001b[1m3898/3898\u001b[0m \u001b[32m━━━━━━━━━━━━━━━━━━━━\u001b[0m\u001b[37m\u001b[0m \u001b[1m11s\u001b[0m 3ms/step - loss: 1.3703\n",
      "Epoch 22/100\n",
      "\u001b[1m3898/3898\u001b[0m \u001b[32m━━━━━━━━━━━━━━━━━━━━\u001b[0m\u001b[37m\u001b[0m \u001b[1m11s\u001b[0m 3ms/step - loss: 1.3528\n",
      "Epoch 23/100\n",
      "\u001b[1m3898/3898\u001b[0m \u001b[32m━━━━━━━━━━━━━━━━━━━━\u001b[0m\u001b[37m\u001b[0m \u001b[1m11s\u001b[0m 3ms/step - loss: 1.3793\n",
      "Epoch 24/100\n",
      "\u001b[1m3898/3898\u001b[0m \u001b[32m━━━━━━━━━━━━━━━━━━━━\u001b[0m\u001b[37m\u001b[0m \u001b[1m11s\u001b[0m 3ms/step - loss: 1.3585\n",
      "Epoch 25/100\n",
      "\u001b[1m3898/3898\u001b[0m \u001b[32m━━━━━━━━━━━━━━━━━━━━\u001b[0m\u001b[37m\u001b[0m \u001b[1m21s\u001b[0m 3ms/step - loss: 1.3646\n",
      "Epoch 26/100\n",
      "\u001b[1m3898/3898\u001b[0m \u001b[32m━━━━━━━━━━━━━━━━━━━━\u001b[0m\u001b[37m\u001b[0m \u001b[1m11s\u001b[0m 3ms/step - loss: 1.3793\n",
      "Epoch 27/100\n",
      "\u001b[1m3898/3898\u001b[0m \u001b[32m━━━━━━━━━━━━━━━━━━━━\u001b[0m\u001b[37m\u001b[0m \u001b[1m11s\u001b[0m 3ms/step - loss: 1.3562\n",
      "Epoch 28/100\n",
      "\u001b[1m3898/3898\u001b[0m \u001b[32m━━━━━━━━━━━━━━━━━━━━\u001b[0m\u001b[37m\u001b[0m \u001b[1m11s\u001b[0m 3ms/step - loss: 1.3891\n",
      "Epoch 29/100\n",
      "\u001b[1m3898/3898\u001b[0m \u001b[32m━━━━━━━━━━━━━━━━━━━━\u001b[0m\u001b[37m\u001b[0m \u001b[1m11s\u001b[0m 3ms/step - loss: 1.3755\n",
      "Epoch 30/100\n",
      "\u001b[1m3898/3898\u001b[0m \u001b[32m━━━━━━━━━━━━━━━━━━━━\u001b[0m\u001b[37m\u001b[0m \u001b[1m11s\u001b[0m 3ms/step - loss: 1.3715\n",
      "Epoch 31/100\n",
      "\u001b[1m3898/3898\u001b[0m \u001b[32m━━━━━━━━━━━━━━━━━━━━\u001b[0m\u001b[37m\u001b[0m \u001b[1m11s\u001b[0m 3ms/step - loss: 1.3654\n",
      "Epoch 32/100\n",
      "\u001b[1m3898/3898\u001b[0m \u001b[32m━━━━━━━━━━━━━━━━━━━━\u001b[0m\u001b[37m\u001b[0m \u001b[1m11s\u001b[0m 3ms/step - loss: 1.3728\n",
      "Epoch 33/100\n",
      "\u001b[1m3898/3898\u001b[0m \u001b[32m━━━━━━━━━━━━━━━━━━━━\u001b[0m\u001b[37m\u001b[0m \u001b[1m11s\u001b[0m 3ms/step - loss: 1.3596\n",
      "Epoch 34/100\n",
      "\u001b[1m3898/3898\u001b[0m \u001b[32m━━━━━━━━━━━━━━━━━━━━\u001b[0m\u001b[37m\u001b[0m \u001b[1m11s\u001b[0m 3ms/step - loss: 1.3694\n",
      "Epoch 35/100\n",
      "\u001b[1m3898/3898\u001b[0m \u001b[32m━━━━━━━━━━━━━━━━━━━━\u001b[0m\u001b[37m\u001b[0m \u001b[1m21s\u001b[0m 3ms/step - loss: 1.3804\n",
      "Epoch 36/100\n",
      "\u001b[1m3898/3898\u001b[0m \u001b[32m━━━━━━━━━━━━━━━━━━━━\u001b[0m\u001b[37m\u001b[0m \u001b[1m21s\u001b[0m 3ms/step - loss: 1.3699\n",
      "Epoch 37/100\n",
      "\u001b[1m3898/3898\u001b[0m \u001b[32m━━━━━━━━━━━━━━━━━━━━\u001b[0m\u001b[37m\u001b[0m \u001b[1m11s\u001b[0m 3ms/step - loss: 1.3800\n",
      "Epoch 38/100\n",
      "\u001b[1m3898/3898\u001b[0m \u001b[32m━━━━━━━━━━━━━━━━━━━━\u001b[0m\u001b[37m\u001b[0m \u001b[1m11s\u001b[0m 3ms/step - loss: 1.3881\n",
      "Epoch 39/100\n",
      "\u001b[1m3898/3898\u001b[0m \u001b[32m━━━━━━━━━━━━━━━━━━━━\u001b[0m\u001b[37m\u001b[0m \u001b[1m11s\u001b[0m 3ms/step - loss: 1.3795\n",
      "Epoch 40/100\n",
      "\u001b[1m3898/3898\u001b[0m \u001b[32m━━━━━━━━━━━━━━━━━━━━\u001b[0m\u001b[37m\u001b[0m \u001b[1m21s\u001b[0m 3ms/step - loss: 1.3878\n",
      "Epoch 41/100\n",
      "\u001b[1m3898/3898\u001b[0m \u001b[32m━━━━━━━━━━━━━━━━━━━━\u001b[0m\u001b[37m\u001b[0m \u001b[1m11s\u001b[0m 3ms/step - loss: 1.3594\n",
      "Epoch 42/100\n",
      "\u001b[1m3898/3898\u001b[0m \u001b[32m━━━━━━━━━━━━━━━━━━━━\u001b[0m\u001b[37m\u001b[0m \u001b[1m12s\u001b[0m 3ms/step - loss: 1.3657\n",
      "Epoch 43/100\n",
      "\u001b[1m3898/3898\u001b[0m \u001b[32m━━━━━━━━━━━━━━━━━━━━\u001b[0m\u001b[37m\u001b[0m \u001b[1m11s\u001b[0m 3ms/step - loss: 1.3543\n",
      "Epoch 44/100\n",
      "\u001b[1m3898/3898\u001b[0m \u001b[32m━━━━━━━━━━━━━━━━━━━━\u001b[0m\u001b[37m\u001b[0m \u001b[1m11s\u001b[0m 3ms/step - loss: 1.3648\n",
      "Epoch 45/100\n",
      "\u001b[1m3898/3898\u001b[0m \u001b[32m━━━━━━━━━━━━━━━━━━━━\u001b[0m\u001b[37m\u001b[0m \u001b[1m11s\u001b[0m 3ms/step - loss: 1.3591\n",
      "Epoch 46/100\n",
      "\u001b[1m3898/3898\u001b[0m \u001b[32m━━━━━━━━━━━━━━━━━━━━\u001b[0m\u001b[37m\u001b[0m \u001b[1m11s\u001b[0m 3ms/step - loss: 1.3651\n",
      "Epoch 47/100\n",
      "\u001b[1m3898/3898\u001b[0m \u001b[32m━━━━━━━━━━━━━━━━━━━━\u001b[0m\u001b[37m\u001b[0m \u001b[1m11s\u001b[0m 3ms/step - loss: 1.3882\n",
      "Epoch 48/100\n",
      "\u001b[1m3898/3898\u001b[0m \u001b[32m━━━━━━━━━━━━━━━━━━━━\u001b[0m\u001b[37m\u001b[0m \u001b[1m11s\u001b[0m 3ms/step - loss: 1.3776\n",
      "Epoch 49/100\n",
      "\u001b[1m3898/3898\u001b[0m \u001b[32m━━━━━━━━━━━━━━━━━━━━\u001b[0m\u001b[37m\u001b[0m \u001b[1m21s\u001b[0m 3ms/step - loss: 1.3489\n",
      "Epoch 50/100\n",
      "\u001b[1m3898/3898\u001b[0m \u001b[32m━━━━━━━━━━━━━━━━━━━━\u001b[0m\u001b[37m\u001b[0m \u001b[1m21s\u001b[0m 3ms/step - loss: 1.3750\n",
      "Epoch 51/100\n",
      "\u001b[1m3898/3898\u001b[0m \u001b[32m━━━━━━━━━━━━━━━━━━━━\u001b[0m\u001b[37m\u001b[0m \u001b[1m11s\u001b[0m 3ms/step - loss: 1.3535\n",
      "Epoch 52/100\n",
      "\u001b[1m3898/3898\u001b[0m \u001b[32m━━━━━━━━━━━━━━━━━━━━\u001b[0m\u001b[37m\u001b[0m \u001b[1m11s\u001b[0m 3ms/step - loss: 1.3830\n",
      "Epoch 53/100\n",
      "\u001b[1m3898/3898\u001b[0m \u001b[32m━━━━━━━━━━━━━━━━━━━━\u001b[0m\u001b[37m\u001b[0m \u001b[1m11s\u001b[0m 3ms/step - loss: 1.3590\n",
      "Epoch 54/100\n",
      "\u001b[1m3898/3898\u001b[0m \u001b[32m━━━━━━━━━━━━━━━━━━━━\u001b[0m\u001b[37m\u001b[0m \u001b[1m11s\u001b[0m 3ms/step - loss: 1.3630\n",
      "Epoch 55/100\n",
      "\u001b[1m3898/3898\u001b[0m \u001b[32m━━━━━━━━━━━━━━━━━━━━\u001b[0m\u001b[37m\u001b[0m \u001b[1m11s\u001b[0m 3ms/step - loss: 1.3716\n",
      "Epoch 56/100\n",
      "\u001b[1m3898/3898\u001b[0m \u001b[32m━━━━━━━━━━━━━━━━━━━━\u001b[0m\u001b[37m\u001b[0m \u001b[1m11s\u001b[0m 3ms/step - loss: 1.3763\n",
      "Epoch 57/100\n",
      "\u001b[1m3898/3898\u001b[0m \u001b[32m━━━━━━━━━━━━━━━━━━━━\u001b[0m\u001b[37m\u001b[0m \u001b[1m11s\u001b[0m 3ms/step - loss: 1.3517\n",
      "Epoch 58/100\n",
      "\u001b[1m3898/3898\u001b[0m \u001b[32m━━━━━━━━━━━━━━━━━━━━\u001b[0m\u001b[37m\u001b[0m \u001b[1m21s\u001b[0m 3ms/step - loss: 1.3650\n",
      "Epoch 59/100\n",
      "\u001b[1m3898/3898\u001b[0m \u001b[32m━━━━━━━━━━━━━━━━━━━━\u001b[0m\u001b[37m\u001b[0m \u001b[1m11s\u001b[0m 3ms/step - loss: 1.3666\n",
      "Epoch 60/100\n",
      "\u001b[1m3898/3898\u001b[0m \u001b[32m━━━━━━━━━━━━━━━━━━━━\u001b[0m\u001b[37m\u001b[0m \u001b[1m11s\u001b[0m 3ms/step - loss: 1.3607\n",
      "Epoch 61/100\n",
      "\u001b[1m3898/3898\u001b[0m \u001b[32m━━━━━━━━━━━━━━━━━━━━\u001b[0m\u001b[37m\u001b[0m \u001b[1m11s\u001b[0m 3ms/step - loss: 1.3694\n",
      "Epoch 62/100\n",
      "\u001b[1m3898/3898\u001b[0m \u001b[32m━━━━━━━━━━━━━━━━━━━━\u001b[0m\u001b[37m\u001b[0m \u001b[1m11s\u001b[0m 3ms/step - loss: 1.3782\n",
      "Epoch 63/100\n",
      "\u001b[1m3898/3898\u001b[0m \u001b[32m━━━━━━━━━━━━━━━━━━━━\u001b[0m\u001b[37m\u001b[0m \u001b[1m11s\u001b[0m 3ms/step - loss: 1.3399\n",
      "Epoch 64/100\n",
      "\u001b[1m3898/3898\u001b[0m \u001b[32m━━━━━━━━━━━━━━━━━━━━\u001b[0m\u001b[37m\u001b[0m \u001b[1m11s\u001b[0m 3ms/step - loss: 1.3794\n",
      "Epoch 65/100\n",
      "\u001b[1m3898/3898\u001b[0m \u001b[32m━━━━━━━━━━━━━━━━━━━━\u001b[0m\u001b[37m\u001b[0m \u001b[1m11s\u001b[0m 3ms/step - loss: 1.3750\n",
      "Epoch 66/100\n",
      "\u001b[1m3898/3898\u001b[0m \u001b[32m━━━━━━━━━━━━━━━━━━━━\u001b[0m\u001b[37m\u001b[0m \u001b[1m11s\u001b[0m 3ms/step - loss: 1.3795\n",
      "Epoch 67/100\n",
      "\u001b[1m3898/3898\u001b[0m \u001b[32m━━━━━━━━━━━━━━━━━━━━\u001b[0m\u001b[37m\u001b[0m \u001b[1m11s\u001b[0m 3ms/step - loss: 1.3702\n",
      "Epoch 68/100\n",
      "\u001b[1m3898/3898\u001b[0m \u001b[32m━━━━━━━━━━━━━━━━━━━━\u001b[0m\u001b[37m\u001b[0m \u001b[1m11s\u001b[0m 3ms/step - loss: 1.3722\n",
      "Epoch 69/100\n",
      "\u001b[1m3898/3898\u001b[0m \u001b[32m━━━━━━━━━━━━━━━━━━━━\u001b[0m\u001b[37m\u001b[0m \u001b[1m11s\u001b[0m 3ms/step - loss: 1.3633\n",
      "Epoch 70/100\n",
      "\u001b[1m3898/3898\u001b[0m \u001b[32m━━━━━━━━━━━━━━━━━━━━\u001b[0m\u001b[37m\u001b[0m \u001b[1m11s\u001b[0m 3ms/step - loss: 1.3833\n",
      "Epoch 71/100\n",
      "\u001b[1m3898/3898\u001b[0m \u001b[32m━━━━━━━━━━━━━━━━━━━━\u001b[0m\u001b[37m\u001b[0m \u001b[1m21s\u001b[0m 3ms/step - loss: 1.3723\n",
      "Epoch 72/100\n",
      "\u001b[1m3898/3898\u001b[0m \u001b[32m━━━━━━━━━━━━━━━━━━━━\u001b[0m\u001b[37m\u001b[0m \u001b[1m11s\u001b[0m 3ms/step - loss: 1.3510\n",
      "Epoch 73/100\n",
      "\u001b[1m3898/3898\u001b[0m \u001b[32m━━━━━━━━━━━━━━━━━━━━\u001b[0m\u001b[37m\u001b[0m \u001b[1m11s\u001b[0m 3ms/step - loss: 1.3614\n",
      "Epoch 74/100\n",
      "\u001b[1m3898/3898\u001b[0m \u001b[32m━━━━━━━━━━━━━━━━━━━━\u001b[0m\u001b[37m\u001b[0m \u001b[1m11s\u001b[0m 3ms/step - loss: 1.3625\n",
      "Epoch 75/100\n",
      "\u001b[1m3898/3898\u001b[0m \u001b[32m━━━━━━━━━━━━━━━━━━━━\u001b[0m\u001b[37m\u001b[0m \u001b[1m11s\u001b[0m 3ms/step - loss: 1.3647\n",
      "Epoch 76/100\n",
      "\u001b[1m3898/3898\u001b[0m \u001b[32m━━━━━━━━━━━━━━━━━━━━\u001b[0m\u001b[37m\u001b[0m \u001b[1m12s\u001b[0m 3ms/step - loss: 1.3652\n",
      "Epoch 77/100\n",
      "\u001b[1m3898/3898\u001b[0m \u001b[32m━━━━━━━━━━━━━━━━━━━━\u001b[0m\u001b[37m\u001b[0m \u001b[1m11s\u001b[0m 3ms/step - loss: 1.3668\n",
      "Epoch 78/100\n",
      "\u001b[1m3898/3898\u001b[0m \u001b[32m━━━━━━━━━━━━━━━━━━━━\u001b[0m\u001b[37m\u001b[0m \u001b[1m21s\u001b[0m 3ms/step - loss: 1.3657\n",
      "Epoch 79/100\n",
      "\u001b[1m3898/3898\u001b[0m \u001b[32m━━━━━━━━━━━━━━━━━━━━\u001b[0m\u001b[37m\u001b[0m \u001b[1m11s\u001b[0m 3ms/step - loss: 1.3918\n",
      "Epoch 80/100\n",
      "\u001b[1m3898/3898\u001b[0m \u001b[32m━━━━━━━━━━━━━━━━━━━━\u001b[0m\u001b[37m\u001b[0m \u001b[1m21s\u001b[0m 3ms/step - loss: 1.3844\n",
      "Epoch 81/100\n",
      "\u001b[1m3898/3898\u001b[0m \u001b[32m━━━━━━━━━━━━━━━━━━━━\u001b[0m\u001b[37m\u001b[0m \u001b[1m11s\u001b[0m 3ms/step - loss: 1.3654\n",
      "Epoch 82/100\n",
      "\u001b[1m3898/3898\u001b[0m \u001b[32m━━━━━━━━━━━━━━━━━━━━\u001b[0m\u001b[37m\u001b[0m \u001b[1m11s\u001b[0m 3ms/step - loss: 1.3765\n",
      "Epoch 83/100\n",
      "\u001b[1m3898/3898\u001b[0m \u001b[32m━━━━━━━━━━━━━━━━━━━━\u001b[0m\u001b[37m\u001b[0m \u001b[1m11s\u001b[0m 3ms/step - loss: 1.3540\n",
      "Epoch 84/100\n",
      "\u001b[1m3898/3898\u001b[0m \u001b[32m━━━━━━━━━━━━━━━━━━━━\u001b[0m\u001b[37m\u001b[0m \u001b[1m11s\u001b[0m 3ms/step - loss: 1.3723\n",
      "Epoch 85/100\n",
      "\u001b[1m3898/3898\u001b[0m \u001b[32m━━━━━━━━━━━━━━━━━━━━\u001b[0m\u001b[37m\u001b[0m \u001b[1m11s\u001b[0m 3ms/step - loss: 1.3551\n",
      "Epoch 86/100\n",
      "\u001b[1m3898/3898\u001b[0m \u001b[32m━━━━━━━━━━━━━━━━━━━━\u001b[0m\u001b[37m\u001b[0m \u001b[1m11s\u001b[0m 3ms/step - loss: 1.3792\n",
      "Epoch 87/100\n",
      "\u001b[1m3898/3898\u001b[0m \u001b[32m━━━━━━━━━━━━━━━━━━━━\u001b[0m\u001b[37m\u001b[0m \u001b[1m20s\u001b[0m 3ms/step - loss: 1.3730\n",
      "Epoch 88/100\n",
      "\u001b[1m3898/3898\u001b[0m \u001b[32m━━━━━━━━━━━━━━━━━━━━\u001b[0m\u001b[37m\u001b[0m \u001b[1m12s\u001b[0m 3ms/step - loss: 1.3695\n",
      "Epoch 89/100\n",
      "\u001b[1m3898/3898\u001b[0m \u001b[32m━━━━━━━━━━━━━━━━━━━━\u001b[0m\u001b[37m\u001b[0m \u001b[1m11s\u001b[0m 3ms/step - loss: 1.3808\n",
      "Epoch 90/100\n",
      "\u001b[1m3898/3898\u001b[0m \u001b[32m━━━━━━━━━━━━━━━━━━━━\u001b[0m\u001b[37m\u001b[0m \u001b[1m11s\u001b[0m 3ms/step - loss: 1.3651\n",
      "Epoch 91/100\n",
      "\u001b[1m3898/3898\u001b[0m \u001b[32m━━━━━━━━━━━━━━━━━━━━\u001b[0m\u001b[37m\u001b[0m \u001b[1m11s\u001b[0m 3ms/step - loss: 1.3783\n",
      "Epoch 92/100\n",
      "\u001b[1m3898/3898\u001b[0m \u001b[32m━━━━━━━━━━━━━━━━━━━━\u001b[0m\u001b[37m\u001b[0m \u001b[1m11s\u001b[0m 3ms/step - loss: 1.3847\n",
      "Epoch 93/100\n",
      "\u001b[1m3898/3898\u001b[0m \u001b[32m━━━━━━━━━━━━━━━━━━━━\u001b[0m\u001b[37m\u001b[0m \u001b[1m12s\u001b[0m 3ms/step - loss: 1.3549\n",
      "Epoch 94/100\n",
      "\u001b[1m3898/3898\u001b[0m \u001b[32m━━━━━━━━━━━━━━━━━━━━\u001b[0m\u001b[37m\u001b[0m \u001b[1m11s\u001b[0m 3ms/step - loss: 1.3772\n",
      "Epoch 95/100\n",
      "\u001b[1m3898/3898\u001b[0m \u001b[32m━━━━━━━━━━━━━━━━━━━━\u001b[0m\u001b[37m\u001b[0m \u001b[1m11s\u001b[0m 3ms/step - loss: 1.3517\n",
      "Epoch 96/100\n",
      "\u001b[1m3898/3898\u001b[0m \u001b[32m━━━━━━━━━━━━━━━━━━━━\u001b[0m\u001b[37m\u001b[0m \u001b[1m11s\u001b[0m 3ms/step - loss: 1.3652\n",
      "Epoch 97/100\n",
      "\u001b[1m3898/3898\u001b[0m \u001b[32m━━━━━━━━━━━━━━━━━━━━\u001b[0m\u001b[37m\u001b[0m \u001b[1m11s\u001b[0m 3ms/step - loss: 1.3667\n",
      "Epoch 98/100\n",
      "\u001b[1m3898/3898\u001b[0m \u001b[32m━━━━━━━━━━━━━━━━━━━━\u001b[0m\u001b[37m\u001b[0m \u001b[1m11s\u001b[0m 3ms/step - loss: 1.3513\n",
      "Epoch 99/100\n",
      "\u001b[1m3898/3898\u001b[0m \u001b[32m━━━━━━━━━━━━━━━━━━━━\u001b[0m\u001b[37m\u001b[0m \u001b[1m11s\u001b[0m 3ms/step - loss: 1.3444\n",
      "Epoch 100/100\n",
      "\u001b[1m3898/3898\u001b[0m \u001b[32m━━━━━━━━━━━━━━━━━━━━\u001b[0m\u001b[37m\u001b[0m \u001b[1m21s\u001b[0m 3ms/step - loss: 1.3616\n",
      "\u001b[1m82/82\u001b[0m \u001b[32m━━━━━━━━━━━━━━━━━━━━\u001b[0m\u001b[37m\u001b[0m \u001b[1m1s\u001b[0m 6ms/step\n"
     ]
    }
   ],
   "source": [
    "classes = np.unique(y_train)\n",
    "class_weights = compute_class_weight(class_weight=\"balanced\", classes=classes, y= y_train)\n",
    "\n",
    "# Convertir en dictionnaire pour Keras\n",
    "class_weight_dict = dict(zip(classes, class_weights))\n",
    "class_weight_dict[0] = 2\n",
    "\n",
    "\n",
    "model_rnn = Sequential([\n",
    "    LSTM(128, return_sequences=True, input_shape=(X_train.shape[1], X_train.shape[2])),\n",
    "    LSTM(32),\n",
    "    Dense(1)  # Prédiction du RUL\n",
    "])\n",
    "\n",
    "model_rnn.compile(loss='mse', optimizer='adam')\n",
    "\n",
    "model_rnn.fit(X_train, y_train, epochs=100, batch_size=2, class_weight=class_weight_dict)\n",
    "\n",
    "predictions_rnn = model_rnn.predict(X_test)\n",
    "\n",
    "# Évaluation de l'efficacité du modèle\n",
    "#accuracy_rnn = accuracy_score(y_test, predictions_rnn)\n",
    "#print(f'Test accuracy pour RNN: {accuracy_rnn}')\n"
   ]
  },
  {
   "cell_type": "code",
   "execution_count": null,
   "metadata": {},
   "outputs": [
    {
     "name": "stdout",
     "output_type": "stream",
     "text": [
      "ecart aboslu moyen: 0.952364611300013\n",
      "ecart absolu inférieur à 10: 2599 sur un total de 2599 prédictions\n"
     ]
    }
   ],
   "source": [
    "#INUTILE\n",
    "ecart = predictions_rnn.flatten() - y_test\n",
    "ecart_abs = np.abs(ecart)\n",
    "print(f'ecart aboslu moyen: {np.mean(ecart_abs)}')\n",
    "print(f'ecart absolu inférieur à 10: {(ecart_abs < 10).sum()} sur un total de {len(ecart_abs)} prédictions')"
   ]
  },
  {
   "cell_type": "code",
   "execution_count": 44,
   "metadata": {},
   "outputs": [],
   "source": [
    "prediction= predictions_rnn.round().astype(int).flatten()\n",
    "prediction= np.maximum(prediction, 0)\n"
   ]
  },
  {
   "cell_type": "code",
   "execution_count": 45,
   "metadata": {},
   "outputs": [
    {
     "data": {
      "text/plain": [
       "array([[   1,    3,  352,    1],\n",
       "       [   1,    2,  303,    2],\n",
       "       [   0,    0,  268,    0],\n",
       "       [   2,   11, 1651,    2]])"
      ]
     },
     "execution_count": 45,
     "metadata": {},
     "output_type": "execute_result"
    }
   ],
   "source": [
    "confusion_matrix(y_test, prediction)"
   ]
  },
  {
   "cell_type": "code",
   "execution_count": 46,
   "metadata": {},
   "outputs": [
    {
     "data": {
      "application/vnd.microsoft.datawrangler.viewer.v0+json": {
       "columns": [
        {
         "name": "index",
         "rawType": "object",
         "type": "string"
        },
        {
         "name": "Critique_predit",
         "rawType": "int64",
         "type": "integer"
        },
        {
         "name": "Important_predit",
         "rawType": "int64",
         "type": "integer"
        },
        {
         "name": "Modere_predit",
         "rawType": "int64",
         "type": "integer"
        },
        {
         "name": "Secondaire_predit",
         "rawType": "int64",
         "type": "integer"
        }
       ],
       "ref": "57fe33b0-9f71-4940-9e67-d135e5e56023",
       "rows": [
        [
         "Critique_données",
         "1",
         "3",
         "352",
         "1"
        ],
        [
         "Important_données",
         "1",
         "2",
         "303",
         "2"
        ],
        [
         "Modere_données",
         "0",
         "0",
         "268",
         "0"
        ],
        [
         "Secondaire_données",
         "2",
         "11",
         "1651",
         "2"
        ]
       ],
       "shape": {
        "columns": 4,
        "rows": 4
       }
      },
      "text/html": [
       "<div>\n",
       "<style scoped>\n",
       "    .dataframe tbody tr th:only-of-type {\n",
       "        vertical-align: middle;\n",
       "    }\n",
       "\n",
       "    .dataframe tbody tr th {\n",
       "        vertical-align: top;\n",
       "    }\n",
       "\n",
       "    .dataframe thead th {\n",
       "        text-align: right;\n",
       "    }\n",
       "</style>\n",
       "<table border=\"1\" class=\"dataframe\">\n",
       "  <thead>\n",
       "    <tr style=\"text-align: right;\">\n",
       "      <th></th>\n",
       "      <th>Critique_predit</th>\n",
       "      <th>Important_predit</th>\n",
       "      <th>Modere_predit</th>\n",
       "      <th>Secondaire_predit</th>\n",
       "    </tr>\n",
       "  </thead>\n",
       "  <tbody>\n",
       "    <tr>\n",
       "      <th>Critique_données</th>\n",
       "      <td>1</td>\n",
       "      <td>3</td>\n",
       "      <td>352</td>\n",
       "      <td>1</td>\n",
       "    </tr>\n",
       "    <tr>\n",
       "      <th>Important_données</th>\n",
       "      <td>1</td>\n",
       "      <td>2</td>\n",
       "      <td>303</td>\n",
       "      <td>2</td>\n",
       "    </tr>\n",
       "    <tr>\n",
       "      <th>Modere_données</th>\n",
       "      <td>0</td>\n",
       "      <td>0</td>\n",
       "      <td>268</td>\n",
       "      <td>0</td>\n",
       "    </tr>\n",
       "    <tr>\n",
       "      <th>Secondaire_données</th>\n",
       "      <td>2</td>\n",
       "      <td>11</td>\n",
       "      <td>1651</td>\n",
       "      <td>2</td>\n",
       "    </tr>\n",
       "  </tbody>\n",
       "</table>\n",
       "</div>"
      ],
      "text/plain": [
       "                    Critique_predit  Important_predit  Modere_predit  \\\n",
       "Critique_données                  1                 3            352   \n",
       "Important_données                 1                 2            303   \n",
       "Modere_données                    0                 0            268   \n",
       "Secondaire_données                2                11           1651   \n",
       "\n",
       "                    Secondaire_predit  \n",
       "Critique_données                    1  \n",
       "Important_données                   2  \n",
       "Modere_données                      0  \n",
       "Secondaire_données                  2  "
      ]
     },
     "execution_count": 46,
     "metadata": {},
     "output_type": "execute_result"
    }
   ],
   "source": [
    "pd.DataFrame(confusion_matrix(y_test, prediction),\n",
    "             index = [\"Critique_données\", \"Important_données\", \"Modere_données\", \"Secondaire_données\"],\n",
    "             columns = [\"Critique_predit\", \"Important_predit\", \"Modere_predit\", \"Secondaire_predit\"])"
   ]
  },
  {
   "cell_type": "code",
   "execution_count": 47,
   "metadata": {},
   "outputs": [
    {
     "name": "stdout",
     "output_type": "stream",
     "text": [
      "Le recall de la classe Critique pour le random forest vaut 0.0028011204481792717.\n",
      "Le recall de la classe Important pour le random forest vaut 0.006493506493506494.\n",
      "Le recall de la classe Modere pour le random forest vaut 1.0.\n",
      "Le recall de la classe Secondaire pour le random forest vaut 0.0012004801920768306.\n"
     ]
    }
   ],
   "source": [
    "classes = [\"Critique\", \"Important\", \"Modere\", \"Secondaire\"]\n",
    "for i in range(4):\n",
    "    print(f\"Le recall de la classe {classes[i]} pour le random forest vaut {recall_score(y_test, prediction, average= None)[i]}.\")"
   ]
  },
  {
   "cell_type": "markdown",
   "metadata": {},
   "source": [
    "Malgré plusieurs paramétrages différents du RNN j'ai obtenu des résultats décevants compte-tenu du fait que la temporalité rajoute une information supplémentaire permettant de capter non seulement la valeur de la métrique mais aussi son évolution sur les derniers jours, mais en effet la complexité de l'apprentissage. Le projet reste en cours j'essayerais donc d'autres méthodes prenant en compte la temporalité."
   ]
  }
 ],
 "metadata": {
  "kernelspec": {
   "display_name": ".venv",
   "language": "python",
   "name": "python3"
  },
  "language_info": {
   "codemirror_mode": {
    "name": "ipython",
    "version": 3
   },
   "file_extension": ".py",
   "mimetype": "text/x-python",
   "name": "python",
   "nbconvert_exporter": "python",
   "pygments_lexer": "ipython3",
   "version": "3.11.9"
  }
 },
 "nbformat": 4,
 "nbformat_minor": 2
}
